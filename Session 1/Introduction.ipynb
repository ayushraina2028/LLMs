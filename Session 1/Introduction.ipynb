{
 "cells": [
  {
   "cell_type": "markdown",
   "metadata": {},
   "source": [
    "## What we will learn about\n",
    "1. What are LLM's ?\n",
    "2. Why there is so much of hype about them\n",
    "3. How do they Work ?\n",
    "4. Different Kinds ?\n",
    "5. How to use, tame, make LLM's ?\n",
    "6. When are LLMs going to take over us ?"
   ]
  },
  {
   "cell_type": "markdown",
   "metadata": {},
   "source": [
    "## Time Table 30 Sep\n",
    "1. 9:30-11:00 Lecture 1 \n",
    "2. 11:00-11:30 Coffee Break\n",
    "3. 11:30-1:00 Hands on Session 1\n",
    "4. 13:00-14:00 Lunch Break\n",
    "5. 14:00-15:30 Lecture 2\n",
    "6. 15:30-16:00 Coffee break\n",
    "7. 16:00-:17:30 Hands on Session 2"
   ]
  },
  {
   "cell_type": "markdown",
   "metadata": {},
   "source": [
    "## Components of Language Understanding\n",
    "1. Linguistic Understanding\n",
    "2. Domain Understanding\n",
    "3. World Knowledge\n",
    "4. Common Sense\n",
    "5. Reasoning"
   ]
  },
  {
   "cell_type": "markdown",
   "metadata": {},
   "source": []
  },
  {
   "cell_type": "markdown",
   "metadata": {},
   "source": []
  }
 ],
 "metadata": {
  "language_info": {
   "name": "python"
  },
  "orig_nbformat": 4
 },
 "nbformat": 4,
 "nbformat_minor": 2
}
