{
  "cells": [
    {
      "cell_type": "markdown",
      "metadata": {},
      "source": [
        "# Hands on Practice Session 1"
      ]
    },
    {
      "cell_type": "code",
      "execution_count": 1,
      "metadata": {
        "id": "l0sRHf5YZ63D"
      },
      "outputs": [],
      "source": [
        "# importing necessary libraries\n",
        "import json\n",
        "import os\n",
        "import re"
      ]
    },
    {
      "cell_type": "code",
      "execution_count": 2,
      "metadata": {
        "id": "znXgY-VLAohT"
      },
      "outputs": [],
      "source": [
        "# Starting with a sample text\n",
        "sample_test = '''In today's digital age, communication plays a vital role in our lives. Email, a ubiquitous form of communication, has become an essential tool for both personal and professional interactions. Whether it's sending messages to friends and family or corresponding with colleagues at work, email has revolutionized the way we connect.\n",
        "For example, imagine you are planning a team meeting, and you need to coordinate schedules with your coworkers. Sending a quick email to teammembers@company.com can help you organize the event efficiently. Similarly, if you're a student looking for information about upcoming exams, you can reach out to professors@university.edu for guidance.\n",
        "Emails also facilitate global communication. You can connect with people from around the world simply by using their email addresses. Whether it's collaborating on a project with partners@internationalcorp.com or subscribing to newsletters from travelEnthusiasts@worldadventures.com, email bridges geographical gaps.\n",
        "Moreover, email addresses are often used as usernames for online services. When signing up for social media platforms or e-commerce websites, you might use your email address as your login ID, such as myusername123@emailservice.com. This simplifies the login process and ensures you receive important notifications.\n",
        "In conclusion, email addresses in the format 'username@domain.com' have become an integral part of our digital lives, facilitating communication, collaboration, and access to various online services.'''"
      ]
    },
    {
      "cell_type": "markdown",
      "metadata": {},
      "source": [
        "We want to extract the email address from the above sample text. We need to complete the below function which will return the email address from the text."
      ]
    },
    {
      "cell_type": "code",
      "execution_count": null,
      "metadata": {},
      "outputs": [],
      "source": []
    },
    {
      "cell_type": "code",
      "execution_count": 38,
      "metadata": {
        "id": "qFi6tHxLVGTW"
      },
      "outputs": [],
      "source": [
        "def is_email(text):\n",
        "  '''returns True if text is an email address, False otherwise'''\n",
        "  # YOUR CODE HERE\n",
        "  return False\n"
      ]
    },
    {
      "cell_type": "code",
      "execution_count": 39,
      "metadata": {
        "id": "mnZK6b0-WFR9"
      },
      "outputs": [
        {
          "name": "stdout",
          "output_type": "stream",
          "text": [
            "True\n",
            "False\n",
            "False\n",
            "False\n"
          ]
        }
      ],
      "source": [
        "print(is_email(\"username@domain.com\"))\n",
        "print(is_email(\"turing@microsoft.com\"))\n",
        "print(is_email(\"username$domain.com\"))\n",
        "print(is_email(\"test23@domain.com\"))\n"
      ]
    },
    {
      "cell_type": "code",
      "execution_count": 60,
      "metadata": {
        "id": "a24hKbbAU2xA"
      },
      "outputs": [],
      "source": [
        "def get_emails(text):\n",
        "  emails = [word for word in text.split() if \"@\" in word]\n",
        "  emails1 = [word for word in emails if word[0] == \"'\" or word[0] == '\"']\n",
        " \n",
        "  \n",
        "  for i in range(len(emails1)):\n",
        "    emails.remove(emails1[i])\n",
        "  \n",
        "  \n",
        "  emails1 = [word[1:-1] for word in emails1]\n",
        "  emails = emails + emails1\n",
        "  return emails"
      ]
    },
    {
      "cell_type": "code",
      "execution_count": 61,
      "metadata": {
        "id": "86hJPKXPWErj"
      },
      "outputs": [
        {
          "data": {
            "text/plain": [
              "['teammembers@company.com',\n",
              " 'professors@university.edu',\n",
              " 'partners@internationalcorp.com',\n",
              " 'travelEnthusiasts@worldadventures.com,',\n",
              " 'myusername123@emailservice.com.',\n",
              " 'username@domain.com']"
            ]
          },
          "execution_count": 61,
          "metadata": {},
          "output_type": "execute_result"
        }
      ],
      "source": [
        "get_emails(sample_test)"
      ]
    },
    {
      "cell_type": "code",
      "execution_count": null,
      "metadata": {
        "id": "-AEtSeNJa7Mz"
      },
      "outputs": [],
      "source": []
    },
    {
      "cell_type": "code",
      "execution_count": 75,
      "metadata": {
        "id": "KpADHA4Ba7Jc"
      },
      "outputs": [
        {
          "name": "stdout",
          "output_type": "stream",
          "text": [
            "['', '', '', '', '', '', '', '', '', '', '', '', '', '', '', '', '', '', '', '', '', '', '', '', '', '', '', '', '', '', '', '', '', '', '', '', '', '', '', '', '', '', '', '', '', '', '', '', '', '', '', '', '', '', '', '', '', '', '', '', '', '', '', '', '', '', '', '', '', '', '', '', '', '', '', '', '', '', '', '', '', '', '', '', '', '', '', '', '', '', '', '', '', '', '', '', '', '', '', '', '', '', '', '', '', '', '', '', '', '', '', '', '', '', '', '', '', '', '', '', '', '', '', '', '', '', '', '', '', '', '', '', '', '', '', '', '', '', '', '', '', '', '', '', '', '', '', '', '', '', '', '', '', '', '', '', '', '', '', '', '', '', '', '', '', '', '', '', '', '', '', '', '', '', '', '', '', '', '', '', '', '', '', '', '', '', '', '', '', '', '', '', '', '', '', '', '', '', '', '', '', '', '', '', '', '', '', '', '', '', '', '', '', '', '', '', '', '', '', '', '', '', '', '', '', '', '', '', '', '', '', '', '', '', '', '', '', '', '', '', '', '', '', '', '', '', '', '', '', '', '', '', '', '', '', '', '', '', '', '', '', '', '', '', '', '', '', '', '', '', '', '', '', '', '', '', '', '', '', '', '', '', '', '', '', '', '', '', '', '', '', '', '', '', '', '', '', '', '', '', '', '', '', '', '', '', '', '', '', '', '', '', '', '', '', '', '', '', '', '', '', '', '', '', '', '', '', '', '', '', '', '', '', '', '', '', '', '', '', '', '', '', '', '', '', '', '', '', '', '', '', '', '', '', '', '', '', '', '', '', '', '', '', '', '', '', '', '', '', '', '', '', '', '', '', '', '', '', '', '', '', '', '', '', '', '', '', '', '', '', '', '', '', '', '', '', '', '', '', '', '', '', '', '', '', '', '', '', '', '', '', '', '', '', '', '', '', '', '', '', '', '', '', '', '', '', '', '', '', '', '', '', '', '', '', '', '', '', '', '', '', '', '', '', '', '', '', '', '', '', '', '', '', '', '', '', '', '', '', '', '', '', '', '', '', '', '', '', '', '', '', '', '', '', '', '', '', '', '', '', '', '', '', '', '', '', '', '', '', '', '', '', '', '', '', '', '', '', '', '', '', '', '', '', '', '', '', '', '', '', '', '', '', '', '', '', '', '', '', '', '', '', '', '', '', '', '', '', '', '', '', '', '', '', '', '', '', '', '', '', '', '', '', '', '', '', '', '', '', '', '', '', '', '', '', '', '', '', '', '', '', '', '', '', '', '', '', '', '', '', '', '', '', '', '', '', '', '', '', '', '', '', '', '', '', '', '', '', '', '', '', '', '', '', '', '', '', '', '', '', '', '', '', '', '', '', '', '', '', '', '', '', '', '', '', '', '', '', '', '', '', '', '', '', '', '', '', '', '', '', '', '', '', '', '', '', '', '', '', '', '', '', '', '', '', '', '', '', '', '', '', '', '', '', '', '', '', '', '', '', '', '', '', '', '', '', '', '', '', '', '', '', '', '', '', '', '', '', '', '', '', '', '', '', '', '', '', '', '', '', '', '', '', '', '', '', '', '', '', '', '', '', '', '', '', '', '', '', '', '', '', '', '', '', '', '', '', '', '', '', '', '', '', '', '', '', '', '', '', '', '', '', '', '', '', '', '', '', '', '', '', '', '', '', '', '', '', '', '', '', '', '', '', '', '', '', '', '', '', '', '', '', '', '', '', '', '', '', '', '', '', '', '', '', '', '', '', '', '', '', '', '', '', '', '', '', '', '', '', '', '', '', '', '', '', '', '', '', '', '', '', '', '', '', '', '', '', '', '', '', '', '', '', '', '', '', '', '', '', '', '', '', '', '', '', '', '', '', '', '', '', '', '', '', '', '', '', '', '', '', '', '', '', '', '', '', '', '', '', '', '', '', '', '', '', '', '', '', '', '', '', '', '', '', '', '', '', '', '', '', '', '', '', '', '', '', '', '', '', '', '', '', '', '', '', '', '', '', '', '', '', '', '', '', '', '', '', '', '', '', '', '', '', '', '', '', '', '', '', '', '', '', '', '', '', '', '', '', '', '', '', '', '', '', '', '', '', '', '', '', '', '', '', '', '', '', '', '', '', '', '', '', '', '', '', '', '', '', '', '', '', '', '', '', '', '', '', '', '', '', '', '', '', '', '', '', '', '', '', '', '', '', '', '', '', '', '', '', '', '', '', '', '', '', '', '', '', '', '', '', '', '', '', '', '', '', '', '', '', '', '', '', '', '', '', '', '', '', '', '', '', '', '', '', '', '', '', '', '', '', '', '', '', '', '', '', '', '', '', '', '', '', '', '', '', '', '', '', '', '', '', '', '', '', '', '', '', '', '', '', '', '', '', '', '', '', '', '', '', '', '', '', '', '', '', '', '', '', '', '', '', '', '', '', '', '', '', '', '', '', '', '', '', '', '', '', '', '', '', '', '', '', '', '', '', '', '', '', '', '', '', '', '', '', '', '', '', '', '', '', '', '', '', '', '', '', '', '', '', '', '', '', '', '', '', '', '', '', '', '', '', '', '', '', '', '', '', '', '', '', '', '', '', '', '', '', '', '', '', '', '', '', '', '', '', '', '', '', '', '', '', '', '', '', '', '', '', '', '', '', '', '', '', '', '', '', '', '', '', '', '', '', '', '', '', '', '', '', '', '', '', '', '', '', '', '', '', '', '', '', '', '', '', '', '', '', '', '', '', '', '', '', '', '', '', '', '', '', '', '', '', '', '', '', '', '', '', '', '', '', '', '', '', '', '', '', '', '', '', '', '', '', '', '', '', '', '', '', '', '', '', '', '', '', '', '', '', '', '', '', '', '', '', '', '', '', '', '', '', '', '', '', '', '', '', '', '', '', '', '', '', '', '', '', '', '', '', '', '', '', '', '', '', '', '', '', '', '', '', '', '', '', '', '', '', '', '', '', '', '', '', '', '', '', '', '', '', '', '', '', '', '', '', '', '', '', '', '', '', '', '', '', '', '', '', '', '', '', '', '', '', '', '', '', '', '', '', '', '', '', '', '', '', '', '', '', '', '', '', '', '', '', '', '', '', '', '', '', '', '', '', '', '', '', '', '', '', '', '', '', '', '', '', '', '', '', '', '', '', '', '', '', '', '', '', '', '', '', '', '', '', '', '', '', '', '', '', '', '', '', '', '', '', '', '', '', '', '', '', '', '', '', '', '', '', '', '', '', '', '', '', '', '', '', '', '', '', '', '', '', '', '', '', '', '', '', '', '', '', '', '', '', '', '', '', '', '', '', '', '', '', '', '', '', '', '', '', '', '', '', '', '', '', '', '', '', '', '', '', '', '', '', '', '', '', '', '', '', '', '', '', '', '', '', '', '', '', '', '', '', '', '', '', '', '', '', '', '']\n"
          ]
        }
      ],
      "source": [
        "import re\n",
        "regex = r\"\"\n",
        "matches = re.findall(regex, sample_test)\n",
        "print(matches)"
      ]
    },
    {
      "cell_type": "markdown",
      "metadata": {},
      "source": [
        "## Finding all emails in below text using chatGPT and regex101(ourself)"
      ]
    },
    {
      "cell_type": "code",
      "execution_count": 76,
      "metadata": {
        "id": "lTScnSwfdPtT"
      },
      "outputs": [],
      "source": [
        "sample_text60 = '''Please contact john.doe@example.com for more information.\n",
        "You can reach out to support@company.com if you have any questions.\n",
        "Email me at my.email@domain.co.uk for further details.\n",
        "Here are multiple email addresses: contact@example.com and sales@company.com.\n",
        "Invalid email: not_an_email.com. Valid email: valid.email123@domain.net\n",
        "Contact us at john.doe@example.co.uk for inquiries.\n",
        "Emails with special characters: user.name-123@example-domain.net\n",
        "You can email support@company-name.com for assistance.\n",
        "Contact info: web.master@example.website\n",
        "Emails in different formats: user.name123@example-name.co\n",
        "For technical issues, contact support@subdomain.example.com.\n",
        "Reach out to sales@department.sub.example.net for product inquiries.\n",
        "Emails with multiple subdomains: contact@sub1.sub2.example.co.uk\n",
        "Contact our team at info@sub.subdomain.company-name.com\n",
        "Testing subdomains in email addresses: user@sub.sub2.example-domain.net\n",
        "Contact us at john_doe@example123.com for assistance.\n",
        "Email with underscores: user_name_123@example-name.net\n",
        "You can reach support_team_1@example.co.uk for help.\n",
        "Emails with mixed characters: sales123@example_sub.company.com\n",
        "Testing numbers and underscores: user_name_456@example123.net\n",
        "Please email (john.doe@example.com) for inquiries.\n",
        "For support, contact (support@company.com).\n",
        "Reach out to (user.name-123@example-domain.net) for assistance.\n",
        "Email address within parentheses: (web.master@example.website).\n",
        "Emails in different formats: (user.name123@example-name.co).\n",
        "Please email 'john.doe@example.com' for inquiries.\n",
        "For support, contact 'support@company.com'.\n",
        "Reach out to 'user.name-123@example-domain.net' for assistance.\n",
        "Email address within double quotes: 'web.master@example.website'.\n",
        "Emails in different formats: 'user.name123@example-name.co'.\n",
        "Contact us at user123!@example.com for assistance.\n",
        "Email with plus sign: user+123@example-name.net\n",
        "You can reach support_team-1@example.co.uk for help.\n",
        "Emails with mixed characters: sales@ex-mple.company.com\n",
        "Testing non-alphanumeric characters: user#na!me-456@example123.net\n",
        "Special characters in email: $customer@example.com\n",
        "Email with underscore: _user@example.net\n",
        "Contact (admin) at admin@domain.net for inquiries.\n",
        "Emails with ampersand: user&123@example-domain.com\n",
        "Reach out to sales+123@example.com for product info.\n",
        "Email with equal sign: user=name@example.co.uk\n",
        "Emails with exclamation mark: user!123@example.net\n",
        "Special email characters: user_name$123@example-domain.com\n",
        "Contact us at contact_us@example.net for support.\n",
        "Contact us at test..contact_us@example.net for support.\n",
        "Emails in a sentence: Please contact user@example.com for help.\n",
        "Email addresses: alice@example.com, bob@example.co.uk, charlie@example.org\n",
        "Complex text with emails (support@example.net) and phone numbers (123-456-7890).\n",
        "Emails separated by punctuation: info@example.com; sales@example.co.uk.\n",
        "Mixed email formats: user@example.net and contact@sub.example.com.\n",
        "Emails inside parentheses: (help@example.org) or (support@example.com).\n",
        "Email with spaces: contact me at john . doe@example . com for assistance.\n",
        "Emails in HTML tags: <a href='info@example.co.uk'>Contact Us</a>\n",
        "Email with HTML entities: user&#64;example&#46;com\n",
        "Emails with uncommon TLDs: user@example.museum and info@example.aero\n",
        "Emails with special characters: customer#123@example!website\n",
        "Emails in mixed case: Contact ME at SUPPORT@EXAMPLE.NET for assistance.\n",
        "Emails with hyphens in domain: user@example-domain.net and info@example-website.org\n",
        "Emails with uppercase letters: HeLLo@ExAmPle.COm and INfo@exaMple.co.uk\n",
        "Emails with multiple dots in the domain: user.name@sub.sub.example.co.uk'''"
      ]
    },
    {
      "cell_type": "code",
      "execution_count": 77,
      "metadata": {
        "id": "KVCUSOh9dzun"
      },
      "outputs": [
        {
          "name": "stdout",
          "output_type": "stream",
          "text": [
            "john.doe@example.com\n",
            "support@company.com\n",
            "my.email@domain.co.uk\n",
            "contact@example.com\n",
            "sales@company.com\n",
            "valid.email123@domain.net\n",
            "john.doe@example.co.uk\n",
            "user.name-123@example-domain.net\n",
            "support@company-name.com\n",
            "web.master@example.website\n",
            "user.name123@example-name.co\n",
            "support@subdomain.example.com\n",
            "sales@department.sub.example.net\n",
            "contact@sub1.sub2.example.co.uk\n",
            "info@sub.subdomain.company-name.com\n",
            "user@sub.sub2.example-domain.net\n",
            "john_doe@example123.com\n",
            "user_name_123@example-name.net\n",
            "support_team_1@example.co.uk\n",
            "user_name_456@example123.net\n",
            "john.doe@example.com\n",
            "support@company.com\n",
            "user.name-123@example-domain.net\n",
            "web.master@example.website\n",
            "user.name123@example-name.co\n",
            "john.doe@example.com\n",
            "support@company.com\n",
            "user.name-123@example-domain.net\n",
            "web.master@example.website\n",
            "user.name123@example-name.co\n",
            "user+123@example-name.net\n",
            "support_team-1@example.co.uk\n",
            "sales@ex-mple.company.com\n",
            "me-456@example123.net\n",
            "customer@example.com\n",
            "_user@example.net\n",
            "admin@domain.net\n",
            "123@example-domain.com\n",
            "sales+123@example.com\n",
            "name@example.co.uk\n",
            "123@example.net\n",
            "123@example-domain.com\n",
            "contact_us@example.net\n",
            "test..contact_us@example.net\n",
            "user@example.com\n",
            "alice@example.com\n",
            "bob@example.co.uk\n",
            "charlie@example.org\n",
            "support@example.net\n",
            "info@example.com\n",
            "sales@example.co.uk\n",
            "user@example.net\n",
            "contact@sub.example.com\n",
            "help@example.org\n",
            "support@example.com\n",
            "info@example.co.uk\n",
            "user@example.museum\n",
            "info@example.aero\n",
            "SUPPORT@EXAMPLE.NET\n",
            "user@example-domain.net\n",
            "info@example-website.org\n",
            "HeLLo@ExAmPle.COm\n",
            "INfo@exaMple.co.uk\n",
            "user.name@sub.sub.example.co.uk\n",
            "64\n"
          ]
        }
      ],
      "source": [
        "# code provided by chat gpt\n",
        "# Use regular expression to find email addresses in the text\n",
        "email_addresses = re.findall(r'\\b[A-Za-z0-9._%+-]+@[A-Za-z0-9.-]+\\.[A-Z|a-z]{2,7}\\b', sample_text60)\n",
        "\n",
        "# Print the extracted email addresses\n",
        "for email in email_addresses:\n",
        "    print(email)\n",
        "    \n",
        "print(len(email_addresses))"
      ]
    },
    {
      "cell_type": "code",
      "execution_count": 85,
      "metadata": {},
      "outputs": [
        {
          "name": "stdout",
          "output_type": "stream",
          "text": [
            "64\n"
          ]
        }
      ],
      "source": [
        "# When we tried ourselves in regex101, i wrote this code \n",
        "# re = \"\\b[-#a-zA-Z0-9.-_!]+@+[a-zA-Z0-9]+[.-]+[a-zA-Z0-9.-]+\\b\"\n",
        "# Chat gpt and our command both finds 64 emails\n",
        "email_addresses = re.findall(r'\\b[-#a-zA-Z0-9.-_!$&]+@+[a-zA-Z0-9_]+[.-]+[a-z0-9.-]+\\b', sample_text60)\n",
        "print(len(email_addresses))"
      ]
    },
    {
      "cell_type": "code",
      "execution_count": null,
      "metadata": {},
      "outputs": [],
      "source": []
    },
    {
      "cell_type": "code",
      "execution_count": null,
      "metadata": {},
      "outputs": [],
      "source": []
    }
  ],
  "metadata": {
    "colab": {
      "provenance": []
    },
    "kernelspec": {
      "display_name": "Python 3",
      "name": "python3"
    },
    "language_info": {
      "codemirror_mode": {
        "name": "ipython",
        "version": 3
      },
      "file_extension": ".py",
      "mimetype": "text/x-python",
      "name": "python",
      "nbconvert_exporter": "python",
      "pygments_lexer": "ipython3",
      "version": "3.10.12"
    }
  },
  "nbformat": 4,
  "nbformat_minor": 0
}
